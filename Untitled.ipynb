{
 "cells": [
  {
   "cell_type": "code",
   "execution_count": 2,
   "id": "2db47f3c",
   "metadata": {},
   "outputs": [],
   "source": [
    "import re\n",
    "import math\n",
    "from subprocess import check_call, PIPE, Popen\n",
    "import shlex"
   ]
  },
  {
   "cell_type": "code",
   "execution_count": 6,
   "id": "90403807",
   "metadata": {},
   "outputs": [],
   "source": [
    "!python video_splitter.py"
   ]
  },
  {
   "cell_type": "code",
   "execution_count": 10,
   "id": "3c0b0ee9",
   "metadata": {
    "scrolled": true
   },
   "outputs": [
    {
     "name": "stdout",
     "output_type": "stream",
     "text": [
      "Extracting frames from pink.mp4\n"
     ]
    }
   ],
   "source": [
    "import cv2  # still used to save images out\n",
    "import os\n",
    "import numpy as np\n",
    "from decord import VideoReader\n",
    "from decord import cpu, gpu\n",
    "\n",
    "\n",
    "def extract_frames(video_path, frames_dir, overwrite=False, start=-1, end=-1, every=1):\n",
    "    \"\"\"\n",
    "    Extract frames from a video using decord's VideoReader\n",
    "    :param video_path: path of the video\n",
    "    :param frames_dir: the directory to save the frames\n",
    "    :param overwrite: to overwrite frames that already exist?\n",
    "    :param start: start frame\n",
    "    :param end: end frame\n",
    "    :param every: frame spacing\n",
    "    :return: count of images saved\n",
    "    \"\"\"\n",
    "\n",
    "    video_path = os.path.normpath(video_path)  # make the paths OS (Windows) compatible\n",
    "    frames_dir = os.path.normpath(frames_dir)  # make the paths OS (Windows) compatible\n",
    "\n",
    "    video_dir, video_filename = os.path.split(video_path)  # get the video path and filename from the path\n",
    "\n",
    "    assert os.path.exists(video_path)  # assert the video file exists\n",
    "\n",
    "    # load the VideoReader\n",
    "    vr = VideoReader(video_path, ctx=cpu(0))  # can set to cpu or gpu .. ctx=gpu(0)\n",
    "                     \n",
    "    if start < 0:  # if start isn't specified lets assume 0\n",
    "        start = 0\n",
    "    if end < 0:  # if end isn't specified assume the end of the video\n",
    "        end = len(vr)\n",
    "\n",
    "    frames_list = list(range(start, end, every))\n",
    "    saved_count = 0\n",
    "\n",
    "    if every > 25 and len(frames_list) < 1000:  # this is faster for every > 25 frames and can fit in memory\n",
    "        frames = vr.get_batch(frames_list).asnumpy()\n",
    "\n",
    "        for index, frame in zip(frames_list, frames):  # lets loop through the frames until the end\n",
    "            save_path = os.path.join(frames_dir, video_filename, \"{:010d}.jpg\".format(index))  # create the save path\n",
    "            if not os.path.exists(save_path) or overwrite:  # if it doesn't exist or we want to overwrite anyways\n",
    "                # cv2.imwrite(save_path, cv2.cvtColor(frame, cv2.COLOR_RGB2BGR))  # save the extracted image\n",
    "                saved_count += 1  # increment our counter by one\n",
    "                cv2.imshow(frame, cv2.COLOR_RGB2BGR)\n",
    "    else:  # this is faster for every <25 and consumes small memory\n",
    "        for index in range(start, end):  # lets loop through the frames until the end\n",
    "            frame = vr[index]  # read an image from the capture\n",
    "            \n",
    "            if index % every == 0:  # if this is a frame we want to write out based on the 'every' argument\n",
    "                save_path = os.path.join(frames_dir, video_filename, \"{:010d}.jpg\".format(index))  # create the save path\n",
    "                if not os.path.exists(save_path) or overwrite:  # if it doesn't exist or we want to overwrite anyways\n",
    "                    cv2.imwrite(save_path, cv2.cvtColor(frame.asnumpy(), cv2.COLOR_RGB2BGR))  # save the extracted image\n",
    "                    saved_count += 1  # increment our counter by one\n",
    "\n",
    "    return saved_count  # and return the count of the images we saved\n",
    "\n",
    "\n",
    "def video_to_frames(video_path, frames_dir, overwrite=False, every=1):\n",
    "    \"\"\"\n",
    "    Extracts the frames from a video\n",
    "    :param video_path: path to the video\n",
    "    :param frames_dir: directory to save the frames\n",
    "    :param overwrite: overwrite frames if they exist?\n",
    "    :param every: extract every this many frames\n",
    "    :return: path to the directory where the frames were saved, or None if fails\n",
    "    \"\"\"\n",
    "\n",
    "    video_path = os.path.normpath(video_path)  # make the paths OS (Windows) compatible\n",
    "    frames_dir = os.path.normpath(frames_dir)  # make the paths OS (Windows) compatible\n",
    "\n",
    "    video_dir, video_filename = os.path.split(video_path)  # get the video path and filename from the path\n",
    "\n",
    "    # make directory to save frames, its a sub dir in the frames_dir with the video name\n",
    "    os.makedirs(os.path.join(frames_dir, video_filename), exist_ok=True)\n",
    "    \n",
    "    print(\"Extracting frames from {}\".format(video_filename))\n",
    "    \n",
    "    extract_frames(video_path, frames_dir, every=every)  # let's now extract the frames\n",
    "\n",
    "    return os.path.join(frames_dir, video_filename)  # when done return the directory containing the frames\n",
    "\n",
    "\n",
    "if __name__ == '__main__':\n",
    "    # test it\n",
    "    video_to_frames(video_path='data/pink.mp4', frames_dir='test_frames', overwrite=False, every=5)"
   ]
  },
  {
   "cell_type": "code",
   "execution_count": null,
   "id": "22892556",
   "metadata": {},
   "outputs": [],
   "source": []
  }
 ],
 "metadata": {
  "kernelspec": {
   "display_name": "Python 3",
   "language": "python",
   "name": "python3"
  },
  "language_info": {
   "codemirror_mode": {
    "name": "ipython",
    "version": 3
   },
   "file_extension": ".py",
   "mimetype": "text/x-python",
   "name": "python",
   "nbconvert_exporter": "python",
   "pygments_lexer": "ipython3",
   "version": "3.8.10"
  }
 },
 "nbformat": 4,
 "nbformat_minor": 5
}
